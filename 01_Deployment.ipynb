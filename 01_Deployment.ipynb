{
 "cells": [
  {
   "cell_type": "markdown",
   "id": "7be41098",
   "metadata": {},
   "source": [
    "# 01 - Deploy FLUX Schnell model to a Managed Online Endpoint via Azure Machine Learning\n",
    "\n",
    "Notebook below contains logic to deploy a BFL's FLUX Schnell model to a managed online endpoint, backed by GPU compute.\n",
    "\n",
    "This deployment builds a custom inferencing environment off of a baseline Azure ML container image using the conda YAML file (`conda_dependencies.yaml`).\n",
    "\n",
    "A custom scoring script (`score.py`) is used to load the model [via the diffusers library](https://huggingface.co/black-forest-labs/FLUX.1-schnell#diffusers) and fulfill user requests. "
   ]
  },
  {
   "cell_type": "markdown",
   "id": "48ffca69",
   "metadata": {},
   "source": [
    "### Import required packages and establish connection to AML workspace"
   ]
  },
  {
   "cell_type": "code",
   "execution_count": null,
   "id": "653beee2-36bd-47af-b513-a1230d7505bc",
   "metadata": {
    "tags": []
   },
   "outputs": [],
   "source": [
    "from azure.ai.ml import MLClient\n",
    "from azure.ai.ml.entities import ManagedOnlineEndpoint, ManagedOnlineDeployment, Model, Environment, CodeConfiguration, DataCollector, DeploymentCollection\n",
    "from azure.identity import DefaultAzureCredential\n",
    "\n",
    "\n",
    "subscription_id = \"<YOUR-SUBSCRIPTION-ID>\"\n",
    "resource_group = \"<YOUR-RESOURCE-GROUP>\"\n",
    "workspace = \"<YOUR-AML-WORKSPACE-NAME>\"\n",
    "model_name = \"flux-schnell\"\n",
    "\n",
    "ml_client = MLClient(DefaultAzureCredential(), subscription_id, resource_group, workspace)\n",
    "ml_client"
   ]
  },
  {
   "cell_type": "markdown",
   "id": "4d4fc19a",
   "metadata": {},
   "source": [
    "### Register custom inferencing environment for FLUX Schnell model\n",
    "\n",
    "Conda dependencies are installed into a baseline Azure ML inferencing environment"
   ]
  },
  {
   "cell_type": "code",
   "execution_count": null,
   "id": "f9b03f04-623d-46dc-bb07-2ae72330b679",
   "metadata": {
    "tags": []
   },
   "outputs": [],
   "source": [
    "environment = Environment(\n",
    "    name=\"flux-schnell-env\",\n",
    "    image=\"mcr.microsoft.com/azureml/curated/minimal-py311-inference:11\",\n",
    "    conda_file=\"conda_dependencies.yaml\"\n",
    ")\n",
    "dir(ml_client.environments)\n",
    "ml_client.environments.create_or_update(environment)"
   ]
  },
  {
   "cell_type": "markdown",
   "id": "9a01446e",
   "metadata": {},
   "source": [
    "### Create endpoint Azure ML"
   ]
  },
  {
   "cell_type": "code",
   "execution_count": null,
   "id": "4d048ea9-8b61-4b7e-b4a0-ebce6324b9a8",
   "metadata": {
    "tags": []
   },
   "outputs": [],
   "source": [
    "# Creating a unique endpoint name\n",
    "online_endpoint_name = \"flux-schnell-endpoint\"\n",
    "\n",
    "# create an online endpoint\n",
    "endpoint = ManagedOnlineEndpoint(\n",
    "    name=online_endpoint_name,\n",
    "    description=\"DEMO - Endpoint for Black Forest Labs FLUX Schnell Model\",\n",
    "    auth_mode=\"key\"\n",
    ")\n",
    "endpoint = ml_client.online_endpoints.begin_create_or_update(endpoint).result()"
   ]
  },
  {
   "cell_type": "markdown",
   "id": "c6c911d5",
   "metadata": {},
   "source": [
    "### Define deployment and push to managed online endpoint\n",
    "\n",
    "Here we have configured our deployment to target a [Standard_NC24ads_A100_v4 compute target](https://learn.microsoft.com/en-us/azure/virtual-machines/nc-a100-v4-series) and the custom scoring script `score.py` will be responsible for loading the model and fulfilling user request.\n",
    "\n",
    "Moreover, we have configured model data collectors to capture incoming requests/arguments and to save all outgoing images encoded as base64 strings."
   ]
  },
  {
   "cell_type": "code",
   "execution_count": null,
   "id": "165b77c0-8724-46f0-877e-f56b10544ad1",
   "metadata": {
    "tags": []
   },
   "outputs": [],
   "source": [
    "inputs_collection = DeploymentCollection(enabled=True)\n",
    "outputs_collection = DeploymentCollection(enabled=True)\n",
    "\n",
    "mdc = DataCollector(collections={'model_inputs':inputs_collection, 'model_outputs':outputs_collection})\n",
    "\n",
    "blue_deployment = ManagedOnlineDeployment(\n",
    "    name=\"blue\",\n",
    "    endpoint_name=online_endpoint_name,\n",
    "    environment=environment,\n",
    "    environment_variables={\n",
    "        \"MODEL_BASE_PATH\": \"/\",\n",
    "        \"MODEL_NAME\": \"flux-schnell\",\n",
    "    },\n",
    "    instance_type=\"Standard_NC24ads_A100_v4\",\n",
    "    instance_count=1,\n",
    "    data_collector=mdc,\n",
    "    code_configuration=CodeConfiguration(code=\".\", scoring_script=\"score.py\")\n",
    ")\n",
    "ml_client.begin_create_or_update(blue_deployment).result()"
   ]
  },
  {
   "cell_type": "markdown",
   "id": "06e4e74e",
   "metadata": {},
   "source": [
    "### Update endpoint to route all traffic to the newly created deployment"
   ]
  },
  {
   "cell_type": "code",
   "execution_count": null,
   "id": "39d23623-e1a2-43d5-8a1e-c7a0444b3b70",
   "metadata": {
    "tags": []
   },
   "outputs": [],
   "source": [
    "endpoint.traffic = {\"blue\": 100}\n",
    "endpoint = ml_client.online_endpoints.begin_create_or_update(endpoint).result()"
   ]
  }
 ],
 "metadata": {
  "kernelspec": {
   "display_name": "Python 3.10 - SDK v2",
   "language": "python",
   "name": "python310-sdkv2"
  },
  "language_info": {
   "codemirror_mode": {
    "name": "ipython",
    "version": 3
   },
   "file_extension": ".py",
   "mimetype": "text/x-python",
   "name": "python",
   "nbconvert_exporter": "python",
   "pygments_lexer": "ipython3",
   "version": "3.10.14"
  }
 },
 "nbformat": 4,
 "nbformat_minor": 5
}
